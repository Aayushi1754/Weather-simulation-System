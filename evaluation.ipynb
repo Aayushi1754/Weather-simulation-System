{
 "cells": [
  {
   "cell_type": "code",
   "execution_count": 2,
   "id": "1905d895-5858-45f8-b03b-bf49f1486e2a",
   "metadata": {},
   "outputs": [],
   "source": [
    "from collections import Counter"
   ]
  },
  {
   "cell_type": "code",
   "execution_count": null,
   "id": "af456602-a379-472e-a350-416026274f79",
   "metadata": {},
   "outputs": [],
   "source": [
    "def statistics(df):\n",
    "    print(\"WEATHER SIMULATION  STATISTICS\")\n",
    "    count=Counter(df['weather_type'])\n",
    "    print(\"weather distribution data:\")\n",
    "    for w , c  in count.items():\n",
    "        print(f\"{w:8s}:{c}days({(c/len(df))*100:.1f}%)\")\n",
    "    thunder=df[\"thunder\"].sum()\n",
    "    print(f\"\\n THUNDER STORMS:{thunder}days({(thunder/len(df))*100:.1f}%)\")\n",
    "    print(f\"\\n Humidity Average: {df['humidity'].mean():.1f}% | \"\n",
    "          f\"Min: {df['humidity'].min():.1f} | Max: {df['humidity'].max():.1f}\")\n",
    "    print(f\"\\n Temperature Avg: {df['weather_temperature'].mean():.1f}°C | \"\n",
    "          f\"Min: {df['weather_temperature'].min():.1f} | Max: {df['weather_temperature'].max():.1f}\")\n",
    "    total_rain = df['rain'].sum()\n",
    "    rain = (df['rain'] > 0).sum()\n",
    "    print(f\"\\n🌧️  Total Rainfall: {total_rain:.1f} mm | Rainy Days: {rain}\")"
   ]
  }
 ],
 "metadata": {
  "kernelspec": {
   "display_name": "Python [conda env:base] *",
   "language": "python",
   "name": "conda-base-py"
  },
  "language_info": {
   "codemirror_mode": {
    "name": "ipython",
    "version": 3
   },
   "file_extension": ".py",
   "mimetype": "text/x-python",
   "name": "python",
   "nbconvert_exporter": "python",
   "pygments_lexer": "ipython3",
   "version": "3.13.5"
  }
 },
 "nbformat": 4,
 "nbformat_minor": 5
}
