{
 "cells": [
  {
   "cell_type": "code",
   "execution_count": 3,
   "id": "f3bb08a2-7da7-49e7-8e2a-2cda379773f9",
   "metadata": {},
   "outputs": [],
   "source": [
    "import matplotlib.pyplot as plt\n",
    "import seaborn as sns\n",
    "import pandas as pd"
   ]
  },
  {
   "cell_type": "code",
   "execution_count": null,
   "id": "9d969f97-43ca-4f64-a53d-c0d5047c9af2",
   "metadata": {},
   "outputs": [],
   "source": [
    "def visualize_results(df, output_path=\"data/weather_simulation_results.png\"):\n",
    "    plt.figure(figsize=(16, 12))\n",
    "    plt.subplot(3, 3, 1)\n",
    "    plt.plot(df['day'], df['weather_temperature'], color='orange', marker='o')\n",
    "    plt.title(\"Temperature Over Time\")\n",
    "    plt.xlabel(\"Day\")\n",
    "    plt.ylabel(\"Temperature °C\")\n",
    "\n",
    "    plt.subplot(3, 3, 2)\n",
    "    plt.plot(df['day'], df['humidity'], color='blue', marker='o')\n",
    "    plt.title(\"Humidity Over Time\")\n",
    "    plt.xlabel(\"Day\")\n",
    "    plt.ylabel(\"Humidity %\")\n",
    "\n",
    "    plt.subplot(3, 3, 3)\n",
    "    colors = ['skyblue' if r > 0 else 'gray' for r in df['rain']]\n",
    "    plt.bar(df['day'], df['rain'], color=colors)\n",
    "    plt.title(\"Rainfall per Day\")\n",
    "\n",
    "   \n",
    "    plt.subplot(3, 3, 4)\n",
    "    counts = df['weather_type'].value_counts()\n",
    "    plt.pie(counts, labels=counts.index, autopct='%1.1f%%',\n",
    "            colors=['gold', 'lightgray', 'skyblue'])\n",
    "    plt.title(\"Weather Type Distribution\")\n",
    "\n",
    "   \n",
    "    plt.subplot(3, 3, 5)\n",
    "    plt.bar(['Thunderstorm', 'No Thunder'], \n",
    "            [df['thunder'].sum(), len(df) - df['thunder'].sum()],\n",
    "            color=['purple', 'gray'])\n",
    "    plt.title(\"Thunderstorm Occurrence\")\n",
    "    plt.ylabel(\"Days\")\n",
    "    \n",
    "\n",
    "    plt.subplot(3, 3, 6)\n",
    "    trans = pd.crosstab(df['current_state'], df['weather_type'], normalize='index') * 100\n",
    "    sns.heatmap(trans, annot=True, fmt='.1f', cmap='YlOrRd')\n",
    "    plt.title(\"Markov Transitions (%)\")\n",
    "\n",
    "    plt.tight_layout()\n",
    "    plt.savefig(output_path, dpi=300)\n",
    "    print(f\" saved  Visualizations  {output_path}\")\n"
   ]
  }
 ],
 "metadata": {
  "kernelspec": {
   "display_name": "Python [conda env:base] *",
   "language": "python",
   "name": "conda-base-py"
  },
  "language_info": {
   "codemirror_mode": {
    "name": "ipython",
    "version": 3
   },
   "file_extension": ".py",
   "mimetype": "text/x-python",
   "name": "python",
   "nbconvert_exporter": "python",
   "pygments_lexer": "ipython3",
   "version": "3.13.5"
  }
 },
 "nbformat": 4,
 "nbformat_minor": 5
}
