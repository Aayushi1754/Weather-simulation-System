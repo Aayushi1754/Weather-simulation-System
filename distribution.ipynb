{
 "cells": [
  {
   "cell_type": "code",
   "execution_count": 2,
   "id": "2b0c9aff-6a4d-412c-a207-8fad93a7958f",
   "metadata": {},
   "outputs": [
    {
     "name": "stdout",
     "output_type": "stream",
     "text": [
      "📌 Testing Poisson samples (λ from real rainy days):\n",
      "0 0 0 0 0 0 0 0 0 0 \n",
      "\n",
      "⚡ Testing Binomial samples (p Storm/Thunder events):\n",
      "0 0 0 0 0 0 0 0 0 0 \n",
      "\n",
      "🌡 Testing Normal Temperature samples (mean, std from dataset):\n",
      "20.0 20.6 20.0 20.0 20.5 19.1 19.2 19.9 19.7 20.5 \n",
      "\n",
      "💧 Testing Normal Humidity samples:\n",
      "50.5 47.9 62.8 54.1 55.6 47.9 52.4 55.8 49.3 57.2 \n",
      "\n"
     ]
    }
   ],
   "source": [
    "import numpy as np\n",
    "import pandas as pd\n",
    "\n",
    "# Load processed weather dataset\n",
    "df = pd.read_csv(\"dehradun_weather_processed.csv\")\n",
    "\n",
    "# Extract weather attributes\n",
    "temperature_data = df[\"temperature_celsius\"]\n",
    "humidity_data = df[\"humidity\"]\n",
    "conditions = df[\"condition_text\"]\n",
    "\n",
    "# ✅ Compute real parameters from dataset\n",
    "# Normal distribution parameters\n",
    "temp_mean = temperature_data.mean()\n",
    "temp_std = temperature_data.std()\n",
    "hum_mean = humidity_data.mean()\n",
    "hum_std = humidity_data.std()\n",
    "\n",
    "# Poisson parameter: number of rainy condition days\n",
    "rain_days = df[df[\"condition_text\"].str.contains(\"Rain\", case=False, na=False)]\n",
    "lambda_poisson = len(rain_days) / len(df)\n",
    "\n",
    "# Binomial probability: storm/thunder events\n",
    "storm_days = df[df[\"condition_text\"].str.contains(\"Storm|Thunder\", case=False, na=False)]\n",
    "p_storm = len(storm_days) / len(df)\n",
    "\n",
    "# ✅ Updated sampling functions\n",
    "def sample_poisson(lam):\n",
    "    \"\"\"Generate random number of rain events using Poisson distribution.\"\"\"\n",
    "    return np.random.poisson(lam)\n",
    "\n",
    "def sample_binomial(prob):\n",
    "    \"\"\"Decide if thunderstorm occurs using Binomial distribution.\"\"\"\n",
    "    return np.random.binomial(1, prob)\n",
    "\n",
    "def sample_normal(mean, std):\n",
    "    \"\"\"Generate real temperature & humidity values.\"\"\"\n",
    "    return np.random.normal(mean, std)\n",
    "\n",
    "# Testing with real dataset parameters\n",
    "np.random.seed(42)\n",
    "print(\"📌 Testing Poisson samples (λ from real rainy days):\")\n",
    "for _ in range(10):\n",
    "    print(sample_poisson(lambda_poisson), end=' ')\n",
    "print(\"\\n\")\n",
    "\n",
    "print(\"⚡ Testing Binomial samples (p Storm/Thunder events):\")\n",
    "for _ in range(10):\n",
    "    print(sample_binomial(p_storm), end=' ')\n",
    "print(\"\\n\")\n",
    "\n",
    "print(\"🌡 Testing Normal Temperature samples (mean, std from dataset):\")\n",
    "for _ in range(10):\n",
    "    print(round(sample_normal(temp_mean, temp_std), 1), end=' ')\n",
    "print(\"\\n\")\n",
    "\n",
    "print(\"💧 Testing Normal Humidity samples:\")\n",
    "for _ in range(10):\n",
    "    print(round(sample_normal(hum_mean, hum_std), 1), end=' ')\n",
    "print(\"\\n\")"
   ]
  },
  {
   "cell_type": "code",
   "execution_count": null,
   "id": "8d5ceb8c-2548-4b2c-9b82-8295850591f2",
   "metadata": {},
   "outputs": [],
   "source": []
  }
 ],
 "metadata": {
  "kernelspec": {
   "display_name": "Python 3 (ipykernel)",
   "language": "python",
   "name": "python3"
  },
  "language_info": {
   "codemirror_mode": {
    "name": "ipython",
    "version": 3
   },
   "file_extension": ".py",
   "mimetype": "text/x-python",
   "name": "python",
   "nbconvert_exporter": "python",
   "pygments_lexer": "ipython3",
   "version": "3.11.2"
  }
 },
 "nbformat": 4,
 "nbformat_minor": 5
}
