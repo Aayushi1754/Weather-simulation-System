import numpy as np
import pandas as pd

# Load processed weather dataset
df = pd.read_csv("dehradun_weather_processed.csv")

# Extract weather attributes
temperature_data = df["temperature_celsius"]
humidity_data = df["humidity"]
conditions = df["condition_text"]

# ✅ Compute real parameters from dataset
# Normal distribution parameters
temp_mean = temperature_data.mean()
temp_std = temperature_data.std()
hum_mean = humidity_data.mean()
hum_std = humidity_data.std()

# Poisson parameter: number of rainy condition days
rain_days = df[df["condition_text"].str.contains("Rain", case=False, na=False)]
lambda_poisson = len(rain_days) / len(df)

# Binomial probability: storm/thunder events
storm_days = df[df["condition_text"].str.contains("Storm|Thunder", case=False, na=False)]
p_storm = len(storm_days) / len(df)

# ✅ Updated sampling functions
def sample_poisson(lam):
    """Generate random number of rain events using Poisson distribution."""
    return np.random.poisson(lam)

def sample_binomial(prob):
    """Decide if thunderstorm occurs using Binomial distribution."""
    return np.random.binomial(1, prob)

def sample_normal(mean, std):
    """Generate real temperature & humidity values."""
    return np.random.normal(mean, std)

# Testing with real dataset parameters
np.random.seed(42)
print("📌 Testing Poisson samples (λ from real rainy days):")
for _ in range(10):
    print(sample_poisson(lambda_poisson), end=' ')
print("\n")

print("⚡ Testing Binomial samples (p Storm/Thunder events):")
for _ in range(10):
    print(sample_binomial(p_storm), end=' ')
print("\n")

print("🌡 Testing Normal Temperature samples (mean, std from dataset):")
for _ in range(10):
    print(round(sample_normal(temp_mean, temp_std), 1), end=' ')
print("\n")

print("💧 Testing Normal Humidity samples:")
for _ in range(10):
    print(round(sample_normal(hum_mean, hum_std), 1), end=' ')
print("\n")

 Testing Poisson samples (λ from real rainy days):
0 0 0 0 0 0 0 0 0 0 

⚡ Testing Binomial samples (p Storm/Thunder events):
0 0 0 0 0 0 0 0 0 0 

🌡 Testing Normal Temperature samples (mean, std from dataset):
20.0 20.6 20.0 20.0 20.5 19.1 19.2 19.9 19.7 20.5 

💧 Testing Normal Humidity samples:
50.5 47.9 62.8 54.1 55.6 47.9 52.4 55.8 49.3 57.2 
