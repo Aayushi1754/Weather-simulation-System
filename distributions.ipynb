{
 "cells": [
  {
   "cell_type": "code",
   "execution_count": 7,
   "id": "2b036012-29c3-4aa2-9489-e78d51f56e09",
   "metadata": {},
   "outputs": [
    {
     "name": "stdout",
     "output_type": "stream",
     "text": [
      "Testing Poisson samples (λ=2):\n",
      "4 1 3 3 1 2 1 1 2 2 \n",
      "\n",
      "Testing Binomial samples (p=0.9):\n",
      "1 1 1 0 0 1 1 1 1 1 \n",
      "\n",
      "Testing Normal samples (mean=30, std=3):\n",
      "29.96 26.83 32.47 26.34 30.63 24.12 26.02 30.59 32.22 30.51 \n",
      "\n"
     ]
    }
   ],
   "source": [
    "import numpy as np\n",
    "\n",
    "def sample_poisson(lam):\n",
    "    \"\"\"Generate a random number of rain events using Poisson distribution.\"\"\"\n",
    "    return np.random.poisson(lam)\n",
    "\n",
    "def sample_binomial(prob):\n",
    "    \"\"\"Decide if thunderstorm occurs using Binomial distribution.\"\"\"\n",
    "    return np.random.binomial(1, prob)\n",
    "\n",
    "def sample_normal(mean, std):\n",
    "    \"\"\"Generate continuous weather attributes (temperature, humidity).\"\"\"\n",
    "    return np.random.normal(mean, std)\n",
    "np.random.seed(42)\n",
    "print(\"Testing Poisson samples (λ=2):\")\n",
    "for _ in range(10):\n",
    "    print(sample_poisson(2), end=' ')\n",
    "print(\"\\n\")\n",
    "print(\"Testing Binomial samples (p=0.9):\")\n",
    "for _ in range(10):\n",
    "    print(sample_binomial(0.9), end=' ')\n",
    "print(\"\\n\")\n",
    "print(\"Testing Normal samples (mean=30, std=3):\")\n",
    "for _ in range(10):\n",
    "    print(round(sample_normal(30, 3), 2), end=' ')\n",
    "print(\"\\n\")\n"
   ]
  },
  {
   "cell_type": "code",
   "execution_count": null,
   "id": "fc1fa0a2-266a-472f-b6b7-c127da788cfe",
   "metadata": {},
   "outputs": [],
   "source": []
  },
  {
   "cell_type": "code",
   "execution_count": null,
   "id": "9cb5abab-666c-4bec-849c-a6cbc1ebf8bb",
   "metadata": {},
   "outputs": [],
   "source": []
  }
 ],
 "metadata": {
  "kernelspec": {
   "display_name": "Python 3 (ipykernel)",
   "language": "python",
   "name": "python3"
  },
  "language_info": {
   "codemirror_mode": {
    "name": "ipython",
    "version": 3
   },
   "file_extension": ".py",
   "mimetype": "text/x-python",
   "name": "python",
   "nbconvert_exporter": "python",
   "pygments_lexer": "ipython3",
   "version": "3.13.5"
  }
 },
 "nbformat": 4,
 "nbformat_minor": 5
}
