import numpy as np
import random
states = ["Sunny", "Cloudy", "Rainy"]
transition_matrix = np.array([
    [0.6, 0.3, 0.1],  # From Sunny
    [0.3, 0.4, 0.3],  # From Cloudy
    [0.2, 0.3, 0.5]   # From Rainy
])

def next_weather_state(current_state):
    """
    Determine the next day's weather based on the current state using the transition matrix.
    """
    current_index = states.index(current_state)
    next_state = np.random.choice(states, p=transition_matrix[current_index])
    return next_state

def simulate_markov_weather(start_state="Sunny", days=10):
    """
    Simulate weather transitions over a given number of days.
    """
    weather_sequence = [start_state]
    current_state = start_state
    
    for _ in range(days - 1):
        next_state = next_weather_state(current_state)
        weather_sequence.append(next_state)
        current_state = next_state
    
    return weather_sequence
    
np.random.seed(42)

print("Transition Matrix:")
print(transition_matrix)

print("\nSimulating 15 days of weather starting from 'Sunny':")
simulated_weather = simulate_markov_weather(start_state="Sunny", days=15)
print(simulated_weather)


unique, counts = np.unique(simulated_weather, return_counts=True)
weather_counts = dict(zip(unique, counts))

print("\nWeather Frequency over 15 days:")
for state, count in weather_counts.items():
    print(f"{state}: {count} days")


import matplotlib.pyplot as plt

plt.figure(figsize=(8, 4))
plt.plot(simulated_weather, marker='o', linestyle='--', color='blue')
plt.title("Markov Chain Weather Simulation")
plt.xlabel("Day")
plt.ylabel("Weather State")
plt.xticks(rotation=45)
plt.grid(True)
plt.show()
